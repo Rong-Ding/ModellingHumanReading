{
 "cells": [
  {
   "cell_type": "code",
   "execution_count": null,
   "metadata": {},
   "outputs": [],
   "source": [
    "import pandas as pd"
   ]
  },
  {
   "cell_type": "code",
   "execution_count": 43,
   "metadata": {},
   "outputs": [],
   "source": [
    "baseloc = 'C:\\\\Users\\\\rondin\\\\Desktop\\\\Courses\\\\Computational Psycholinguistics\\\\Assignment\\\\Assignment 2'\n",
    "# stimuli files\n",
    "file_bad = baseloc+'\\\\items\\\\amb_bad_fit.txt'\n",
    "file_good = baseloc+'\\\\items\\\\amb_good_fit.txt'"
   ]
  },
  {
   "cell_type": "code",
   "execution_count": 33,
   "metadata": {},
   "outputs": [
    {
     "name": "stdout",
     "output_type": "stream",
     "text": [
      "60\n"
     ]
    }
   ],
   "source": [
    "file_old = open(file_good, 'r')\n",
    "lines = file_old.readlines()\n",
    "file_old.close()\n",
    "print(len(lines))"
   ]
  },
  {
   "cell_type": "code",
   "execution_count": 39,
   "metadata": {},
   "outputs": [],
   "source": [
    "def select_sent(file):\n",
    "    #load vocab\n",
    "    file_vocab = baseloc+'\\\\vocabulary.txt'\n",
    "    vocab_f = open(file_vocab, 'r')\n",
    "    vocab = vocab_f.read().split() # a list of words\n",
    "    vocab_f.close()\n",
    "    \n",
    "    # load file\n",
    "    file_old = open(file, 'r')\n",
    "    lines = file_old.readlines()\n",
    "    file_old.close()\n",
    "    \n",
    "    sent_stimuli = []\n",
    "    for line in lines:\n",
    "        words = line.split()\n",
    "        # check if all words are in the vocab\n",
    "        isStimulus = True\n",
    "        for word in words:\n",
    "            if word in vocab:\n",
    "                continue\n",
    "            else:\n",
    "                isStimulus = False\n",
    "                break\n",
    "        if isStimulus:\n",
    "            sent_stimuli.append(line)\n",
    "    \n",
    "    oldnam = file.split(\"\\\\\")[-1].replace(\".txt\",\"\")\n",
    "    newf_name = '\\\\{}_new.txt'.format(oldnam)\n",
    "    newf = baseloc + newf_name\n",
    "    \n",
    "    return sent_stimuli, newf"
   ]
  },
  {
   "cell_type": "code",
   "execution_count": 46,
   "metadata": {},
   "outputs": [],
   "source": [
    "sent_stimuli, newf = select_sent(file_good)\n",
    "# write into a new file\n",
    "file_new = open(newf, 'w')\n",
    "file_new.writelines(sent_stimuli)\n",
    "file_new.close()"
   ]
  },
  {
   "cell_type": "code",
   "execution_count": 47,
   "metadata": {},
   "outputs": [
    {
     "name": "stdout",
     "output_type": "stream",
     "text": [
      "60\n"
     ]
    }
   ],
   "source": [
    "print(len(sent_stimuli))"
   ]
  },
  {
   "cell_type": "code",
   "execution_count": null,
   "metadata": {},
   "outputs": [],
   "source": []
  }
 ],
 "metadata": {
  "kernelspec": {
   "display_name": "Python 3",
   "language": "python",
   "name": "python3"
  },
  "language_info": {
   "codemirror_mode": {
    "name": "ipython",
    "version": 3
   },
   "file_extension": ".py",
   "mimetype": "text/x-python",
   "name": "python",
   "nbconvert_exporter": "python",
   "pygments_lexer": "ipython3",
   "version": "3.8.5"
  }
 },
 "nbformat": 4,
 "nbformat_minor": 4
}
