{
 "cells": [
  {
   "cell_type": "code",
   "execution_count": 1,
   "metadata": {},
   "outputs": [],
   "source": [
    "import pandas as pd\n",
    "import matplotlib.pyplot as plt\n",
    "import seaborn as sns\n",
    "import numpy as np"
   ]
  },
  {
   "cell_type": "markdown",
   "metadata": {},
   "source": [
    "## Step 1: creating a file with critical verbs and their RNN surprisal values"
   ]
  },
  {
   "cell_type": "code",
   "execution_count": 3,
   "metadata": {},
   "outputs": [],
   "source": [
    "baseloc = \"C:\\\\Users\\\\rondin\\\\Desktop\\\\Courses\\\\Computational Psycholinguistics\\\\Assignment\\\\Assignment 2\""
   ]
  },
  {
   "cell_type": "code",
   "execution_count": 34,
   "metadata": {},
   "outputs": [],
   "source": [
    "ambiguity = [\"amb\",\"unamb\"]\n",
    "fit = [\"good\", \"bad\"]\n",
    "\n",
    "df_verbs = pd.DataFrame()\n",
    "dfs = pd.DataFrame()\n",
    "for amb in ambiguity:\n",
    "    for f in fit:\n",
    "        \n",
    "        df = pd.DataFrame()\n",
    "        \n",
    "        # read surprisal from file\n",
    "        file_lstm = baseloc + \"\\\\surprisal.lstm.{}_{}_fit_new.csv\".format(amb,f)\n",
    "        file_srn = baseloc + \"\\\\surprisal.srn.{}_{}_fit_new.csv\".format(amb,f)\n",
    "        df_lstm = pd.read_csv(file_lstm)\n",
    "        df_srn = pd.read_csv(file_srn)\n",
    "        \n",
    "        # add surprisal from both models into one single df\n",
    "        df[\"sent_nr\"] = df_lstm[\"sent_nr\"]\n",
    "        df[\"word_pos\"] = df_lstm[\"word_pos\"]\n",
    "        df[\"word\"] = df_lstm[\"word\"]\n",
    "        df[\"surp_lstm\"] = df_lstm[\"LSTM_1_8773568\"]\n",
    "        df[\"surp_srn\"] = df_srn[\"SRN_1_8773568\"]\n",
    "        df[\"ambiguity\"] = amb\n",
    "        df[\"fit\"] = f\n",
    "        \n",
    "        # find the critical verbs\n",
    "        and_s = df[df[\"word\"] == \"and\"]\n",
    "        \n",
    "        sent_nr = and_s[\"sent_nr\"].to_list()\n",
    "        word_pos_and = and_s[\"word_pos\"].to_list()\n",
    "        word_pos_verb = [pos + 3 for pos in word_pos_and]\n",
    "        \n",
    "        verb_s = pd.DataFrame()\n",
    "        for i in range(len(sent_nr)):\n",
    "            verb_s = verb_s.append(df[(df[\"sent_nr\"] == sent_nr[i]) & (df[\"word_pos\"] == word_pos_verb[i])])\n",
    "        \n",
    "        dfs = dfs.append(df) # save the df with all words in case there's any issue with the verb df/file\n",
    "    \n",
    "        df_verbs = df_verbs.append(verb_s)\n",
    "\n",
    "df_verbs = df_verbs.reset_index()"
   ]
  },
  {
   "cell_type": "code",
   "execution_count": 39,
   "metadata": {},
   "outputs": [
    {
     "data": {
      "text/plain": [
       "3793"
      ]
     },
     "execution_count": 39,
     "metadata": {},
     "output_type": "execute_result"
    }
   ],
   "source": [
    "len(dfs)"
   ]
  },
  {
   "cell_type": "code",
   "execution_count": 36,
   "metadata": {},
   "outputs": [],
   "source": [
    "# save the verb df/file\n",
    "df_verbs.to_csv(\"verbs_first_version.csv\")"
   ]
  },
  {
   "cell_type": "markdown",
   "metadata": {},
   "source": [
    "The saved file then goes through a visual check to see if any word other than critical verbs is mistakenly included. It turns out that indeed a few 3-word long second objects and verb-preceding adjectives have been included. Those cases have thus been marked and changes to the corresponding critical verbs are made accordingly."
   ]
  },
  {
   "cell_type": "code",
   "execution_count": 53,
   "metadata": {},
   "outputs": [
    {
     "data": {
      "text/html": [
       "<div>\n",
       "<style scoped>\n",
       "    .dataframe tbody tr th:only-of-type {\n",
       "        vertical-align: middle;\n",
       "    }\n",
       "\n",
       "    .dataframe tbody tr th {\n",
       "        vertical-align: top;\n",
       "    }\n",
       "\n",
       "    .dataframe thead th {\n",
       "        text-align: right;\n",
       "    }\n",
       "</style>\n",
       "<table border=\"1\" class=\"dataframe\">\n",
       "  <thead>\n",
       "    <tr style=\"text-align: right;\">\n",
       "      <th></th>\n",
       "      <th>sent_nr</th>\n",
       "      <th>word_pos</th>\n",
       "      <th>word</th>\n",
       "      <th>surp_lstm</th>\n",
       "      <th>surp_srn</th>\n",
       "      <th>ambiguity</th>\n",
       "      <th>fit</th>\n",
       "    </tr>\n",
       "  </thead>\n",
       "  <tbody>\n",
       "    <tr>\n",
       "      <th>691</th>\n",
       "      <td>44</td>\n",
       "      <td>10</td>\n",
       "      <td>aquarium</td>\n",
       "      <td>10.037937</td>\n",
       "      <td>10.521035</td>\n",
       "      <td>amb</td>\n",
       "      <td>good</td>\n",
       "    </tr>\n",
       "    <tr>\n",
       "      <th>689</th>\n",
       "      <td>44</td>\n",
       "      <td>10</td>\n",
       "      <td>dinner</td>\n",
       "      <td>8.062805</td>\n",
       "      <td>8.902812</td>\n",
       "      <td>amb</td>\n",
       "      <td>bad</td>\n",
       "    </tr>\n",
       "    <tr>\n",
       "      <th>735</th>\n",
       "      <td>44</td>\n",
       "      <td>10</td>\n",
       "      <td>the</td>\n",
       "      <td>2.033485</td>\n",
       "      <td>2.378748</td>\n",
       "      <td>unamb</td>\n",
       "      <td>good</td>\n",
       "    </tr>\n",
       "    <tr>\n",
       "      <th>733</th>\n",
       "      <td>44</td>\n",
       "      <td>10</td>\n",
       "      <td>made</td>\n",
       "      <td>9.683013</td>\n",
       "      <td>8.066246</td>\n",
       "      <td>unamb</td>\n",
       "      <td>bad</td>\n",
       "    </tr>\n",
       "  </tbody>\n",
       "</table>\n",
       "</div>"
      ],
      "text/plain": [
       "     sent_nr  word_pos      word  surp_lstm   surp_srn ambiguity   fit\n",
       "691       44        10  aquarium  10.037937  10.521035       amb  good\n",
       "689       44        10    dinner   8.062805   8.902812       amb   bad\n",
       "735       44        10       the   2.033485   2.378748     unamb  good\n",
       "733       44        10      made   9.683013   8.066246     unamb   bad"
      ]
     },
     "execution_count": 53,
     "metadata": {},
     "output_type": "execute_result"
    }
   ],
   "source": [
    "# to find the correct target critical verbs during the check\n",
    "dfs[(dfs[\"sent_nr\"] == 44) & (dfs[\"word_pos\"] == 10)]"
   ]
  },
  {
   "cell_type": "markdown",
   "metadata": {},
   "source": [
    "## Step 2: building the file for LMER analyses"
   ]
  },
  {
   "cell_type": "code",
   "execution_count": 4,
   "metadata": {},
   "outputs": [
    {
     "data": {
      "text/html": [
       "<div>\n",
       "<style scoped>\n",
       "    .dataframe tbody tr th:only-of-type {\n",
       "        vertical-align: middle;\n",
       "    }\n",
       "\n",
       "    .dataframe tbody tr th {\n",
       "        vertical-align: top;\n",
       "    }\n",
       "\n",
       "    .dataframe thead th {\n",
       "        text-align: right;\n",
       "    }\n",
       "</style>\n",
       "<table border=\"1\" class=\"dataframe\">\n",
       "  <thead>\n",
       "    <tr style=\"text-align: right;\">\n",
       "      <th></th>\n",
       "      <th>Unnamed: 0</th>\n",
       "      <th>index</th>\n",
       "      <th>sent_nr</th>\n",
       "      <th>word_pos</th>\n",
       "      <th>word</th>\n",
       "      <th>surp_lstm</th>\n",
       "      <th>surp_srn</th>\n",
       "      <th>ambiguity</th>\n",
       "      <th>fit</th>\n",
       "      <th>isPrecededbyAdv</th>\n",
       "    </tr>\n",
       "  </thead>\n",
       "  <tbody>\n",
       "    <tr>\n",
       "      <th>0</th>\n",
       "      <td>0</td>\n",
       "      <td>8</td>\n",
       "      <td>0</td>\n",
       "      <td>8</td>\n",
       "      <td>spotted</td>\n",
       "      <td>10.149651</td>\n",
       "      <td>9.466072</td>\n",
       "      <td>amb</td>\n",
       "      <td>good</td>\n",
       "      <td>NaN</td>\n",
       "    </tr>\n",
       "    <tr>\n",
       "      <th>1</th>\n",
       "      <td>1</td>\n",
       "      <td>24</td>\n",
       "      <td>1</td>\n",
       "      <td>9</td>\n",
       "      <td>washed</td>\n",
       "      <td>8.380904</td>\n",
       "      <td>10.168794</td>\n",
       "      <td>amb</td>\n",
       "      <td>good</td>\n",
       "      <td>NaN</td>\n",
       "    </tr>\n",
       "    <tr>\n",
       "      <th>2</th>\n",
       "      <td>2</td>\n",
       "      <td>37</td>\n",
       "      <td>2</td>\n",
       "      <td>8</td>\n",
       "      <td>buries</td>\n",
       "      <td>13.338874</td>\n",
       "      <td>14.105397</td>\n",
       "      <td>amb</td>\n",
       "      <td>good</td>\n",
       "      <td>NaN</td>\n",
       "    </tr>\n",
       "    <tr>\n",
       "      <th>3</th>\n",
       "      <td>3</td>\n",
       "      <td>52</td>\n",
       "      <td>3</td>\n",
       "      <td>8</td>\n",
       "      <td>films</td>\n",
       "      <td>11.397077</td>\n",
       "      <td>12.100304</td>\n",
       "      <td>amb</td>\n",
       "      <td>good</td>\n",
       "      <td>NaN</td>\n",
       "    </tr>\n",
       "    <tr>\n",
       "      <th>4</th>\n",
       "      <td>4</td>\n",
       "      <td>69</td>\n",
       "      <td>4</td>\n",
       "      <td>9</td>\n",
       "      <td>scolded</td>\n",
       "      <td>10.857853</td>\n",
       "      <td>12.349148</td>\n",
       "      <td>amb</td>\n",
       "      <td>good</td>\n",
       "      <td>1.0</td>\n",
       "    </tr>\n",
       "  </tbody>\n",
       "</table>\n",
       "</div>"
      ],
      "text/plain": [
       "   Unnamed: 0  index  sent_nr  word_pos     word  surp_lstm   surp_srn  \\\n",
       "0           0      8        0         8  spotted  10.149651   9.466072   \n",
       "1           1     24        1         9   washed   8.380904  10.168794   \n",
       "2           2     37        2         8   buries  13.338874  14.105397   \n",
       "3           3     52        3         8    films  11.397077  12.100304   \n",
       "4           4     69        4         9  scolded  10.857853  12.349148   \n",
       "\n",
       "  ambiguity   fit  isPrecededbyAdv  \n",
       "0       amb  good              NaN  \n",
       "1       amb  good              NaN  \n",
       "2       amb  good              NaN  \n",
       "3       amb  good              NaN  \n",
       "4       amb  good              1.0  "
      ]
     },
     "execution_count": 4,
     "metadata": {},
     "output_type": "execute_result"
    }
   ],
   "source": [
    "# reload the verb file\n",
    "file_v = baseloc + \"\\\\verbs_first_version.csv\"\n",
    "df_verbs = pd.read_csv(file_v)\n",
    "df_verbs.head()"
   ]
  },
  {
   "cell_type": "code",
   "execution_count": 7,
   "metadata": {},
   "outputs": [
    {
     "data": {
      "text/plain": [
       "58"
      ]
     },
     "execution_count": 7,
     "metadata": {},
     "output_type": "execute_result"
    }
   ],
   "source": [
    "# discard the trials with an adjective preceding the critical verb\n",
    "df = df_verbs.drop(df_verbs[df_verbs[\"isPrecededbyAdv\"] == 1].index)\n",
    "len(df[(df[\"ambiguity\"] == \"amb\") & (df[\"fit\"] == \"bad\")])"
   ]
  },
  {
   "cell_type": "code",
   "execution_count": 65,
   "metadata": {},
   "outputs": [
    {
     "name": "stderr",
     "output_type": "stream",
     "text": [
      "<ipython-input-65-6f46eb234520>:6: SettingWithCopyWarning: \n",
      "A value is trying to be set on a copy of a slice from a DataFrame\n",
      "\n",
      "See the caveats in the documentation: https://pandas.pydata.org/pandas-docs/stable/user_guide/indexing.html#returning-a-view-versus-a-copy\n",
      "  df_melted[\"model\"][i] = \"lstm\"\n",
      "<ipython-input-65-6f46eb234520>:8: SettingWithCopyWarning: \n",
      "A value is trying to be set on a copy of a slice from a DataFrame\n",
      "\n",
      "See the caveats in the documentation: https://pandas.pydata.org/pandas-docs/stable/user_guide/indexing.html#returning-a-view-versus-a-copy\n",
      "  df_melted[\"model\"][i] = \"srn\"\n"
     ]
    },
    {
     "data": {
      "text/html": [
       "<div>\n",
       "<style scoped>\n",
       "    .dataframe tbody tr th:only-of-type {\n",
       "        vertical-align: middle;\n",
       "    }\n",
       "\n",
       "    .dataframe tbody tr th {\n",
       "        vertical-align: top;\n",
       "    }\n",
       "\n",
       "    .dataframe thead th {\n",
       "        text-align: right;\n",
       "    }\n",
       "</style>\n",
       "<table border=\"1\" class=\"dataframe\">\n",
       "  <thead>\n",
       "    <tr style=\"text-align: right;\">\n",
       "      <th></th>\n",
       "      <th>word</th>\n",
       "      <th>word_pos</th>\n",
       "      <th>ambiguity</th>\n",
       "      <th>fit</th>\n",
       "      <th>model</th>\n",
       "      <th>surprisal</th>\n",
       "    </tr>\n",
       "  </thead>\n",
       "  <tbody>\n",
       "    <tr>\n",
       "      <th>0</th>\n",
       "      <td>spotted</td>\n",
       "      <td>8</td>\n",
       "      <td>amb</td>\n",
       "      <td>good</td>\n",
       "      <td>lstm</td>\n",
       "      <td>10.149651</td>\n",
       "    </tr>\n",
       "    <tr>\n",
       "      <th>1</th>\n",
       "      <td>washed</td>\n",
       "      <td>9</td>\n",
       "      <td>amb</td>\n",
       "      <td>good</td>\n",
       "      <td>lstm</td>\n",
       "      <td>8.380904</td>\n",
       "    </tr>\n",
       "    <tr>\n",
       "      <th>2</th>\n",
       "      <td>buries</td>\n",
       "      <td>8</td>\n",
       "      <td>amb</td>\n",
       "      <td>good</td>\n",
       "      <td>lstm</td>\n",
       "      <td>13.338874</td>\n",
       "    </tr>\n",
       "    <tr>\n",
       "      <th>3</th>\n",
       "      <td>films</td>\n",
       "      <td>8</td>\n",
       "      <td>amb</td>\n",
       "      <td>good</td>\n",
       "      <td>lstm</td>\n",
       "      <td>11.397077</td>\n",
       "    </tr>\n",
       "    <tr>\n",
       "      <th>4</th>\n",
       "      <td>complained</td>\n",
       "      <td>8</td>\n",
       "      <td>amb</td>\n",
       "      <td>good</td>\n",
       "      <td>lstm</td>\n",
       "      <td>8.378635</td>\n",
       "    </tr>\n",
       "  </tbody>\n",
       "</table>\n",
       "</div>"
      ],
      "text/plain": [
       "         word  word_pos ambiguity   fit model  surprisal\n",
       "0     spotted         8       amb  good  lstm  10.149651\n",
       "1      washed         9       amb  good  lstm   8.380904\n",
       "2      buries         8       amb  good  lstm  13.338874\n",
       "3       films         8       amb  good  lstm  11.397077\n",
       "4  complained         8       amb  good  lstm   8.378635"
      ]
     },
     "execution_count": 65,
     "metadata": {},
     "output_type": "execute_result"
    }
   ],
   "source": [
    "# melt lstm and srn surprisal into two levels of a variable for the LMER model which contrasts the two models' performance\n",
    "colnames = df.columns.tolist()[5:7]\n",
    "df_melted = pd.melt(df, id_vars=[\"word\",\"word_pos\",\"ambiguity\",\"fit\"], value_vars=colnames, var_name='model', value_name='surprisal')\n",
    "for i in range(len(df_melted)):\n",
    "    if df_melted[\"model\"][i] == \"surp_lstm\":\n",
    "        df_melted[\"model\"][i] = \"lstm\"\n",
    "    else:\n",
    "        df_melted[\"model\"][i] = \"srn\"\n",
    "\n",
    "df_melted.head()"
   ]
  },
  {
   "cell_type": "code",
   "execution_count": 68,
   "metadata": {},
   "outputs": [],
   "source": [
    "# save the datafile\n",
    "df_melted.to_csv(\"datafile_p2.csv\")"
   ]
  },
  {
   "cell_type": "code",
   "execution_count": null,
   "metadata": {},
   "outputs": [],
   "source": []
  }
 ],
 "metadata": {
  "kernelspec": {
   "display_name": "Python 3",
   "language": "python",
   "name": "python3"
  },
  "language_info": {
   "codemirror_mode": {
    "name": "ipython",
    "version": 3
   },
   "file_extension": ".py",
   "mimetype": "text/x-python",
   "name": "python",
   "nbconvert_exporter": "python",
   "pygments_lexer": "ipython3",
   "version": "3.8.5"
  }
 },
 "nbformat": 4,
 "nbformat_minor": 4
}
