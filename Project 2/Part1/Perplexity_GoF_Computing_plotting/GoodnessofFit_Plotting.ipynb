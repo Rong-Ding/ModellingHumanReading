{
 "cells": [
  {
   "cell_type": "code",
   "execution_count": 1,
   "metadata": {},
   "outputs": [],
   "source": [
    "import pandas as pd\n",
    "import matplotlib.pyplot as plt\n",
    "# conda install seaborn\n",
    "#import seaborn as sns\n",
    "import numpy as np"
   ]
  },
  {
   "cell_type": "code",
   "execution_count": 2,
   "metadata": {},
   "outputs": [
    {
     "data": {
      "text/html": [
       "<div>\n",
       "<style scoped>\n",
       "    .dataframe tbody tr th:only-of-type {\n",
       "        vertical-align: middle;\n",
       "    }\n",
       "\n",
       "    .dataframe tbody tr th {\n",
       "        vertical-align: top;\n",
       "    }\n",
       "\n",
       "    .dataframe thead th {\n",
       "        text-align: right;\n",
       "    }\n",
       "</style>\n",
       "<table border=\"1\" class=\"dataframe\">\n",
       "  <thead>\n",
       "    <tr style=\"text-align: right;\">\n",
       "      <th></th>\n",
       "      <th>model</th>\n",
       "      <th>step</th>\n",
       "      <th>chi-squared</th>\n",
       "    </tr>\n",
       "  </thead>\n",
       "  <tbody>\n",
       "    <tr>\n",
       "      <th>0</th>\n",
       "      <td>SRN</td>\n",
       "      <td>1000</td>\n",
       "      <td>89.795</td>\n",
       "    </tr>\n",
       "    <tr>\n",
       "      <th>1</th>\n",
       "      <td>SRN</td>\n",
       "      <td>3000</td>\n",
       "      <td>110.080</td>\n",
       "    </tr>\n",
       "    <tr>\n",
       "      <th>2</th>\n",
       "      <td>SRN</td>\n",
       "      <td>10000</td>\n",
       "      <td>113.130</td>\n",
       "    </tr>\n",
       "    <tr>\n",
       "      <th>3</th>\n",
       "      <td>SRN</td>\n",
       "      <td>30000</td>\n",
       "      <td>139.740</td>\n",
       "    </tr>\n",
       "    <tr>\n",
       "      <th>4</th>\n",
       "      <td>SRN</td>\n",
       "      <td>100000</td>\n",
       "      <td>204.830</td>\n",
       "    </tr>\n",
       "  </tbody>\n",
       "</table>\n",
       "</div>"
      ],
      "text/plain": [
       "  model    step  chi-squared\n",
       "0   SRN    1000       89.795\n",
       "1   SRN    3000      110.080\n",
       "2   SRN   10000      113.130\n",
       "3   SRN   30000      139.740\n",
       "4   SRN  100000      204.830"
      ]
     },
     "execution_count": 2,
     "metadata": {},
     "output_type": "execute_result"
    }
   ],
   "source": [
    "data = pd.read_csv(\"C:\\\\Users\\\\rondin\\\\Desktop\\\\Courses\\\\Computational Psycholinguistics\\\\Assignment\\\\Assignment 2\\\\log_likelihood.csv\")\n",
    "data.head()"
   ]
  },
  {
   "cell_type": "code",
   "execution_count": 4,
   "metadata": {},
   "outputs": [],
   "source": [
    "model = [\"LSTM\",\"SRN\"]\n",
    "step = [1000,3000,10000,30000,100000,300000,1000000,3000000,8773568]\n",
    "y = []\n",
    "for i in range(2):\n",
    "    y1 = []\n",
    "    for j in range(9):\n",
    "        m = model[i]\n",
    "        s = step[j]\n",
    "        y1.append(data[(data[\"model\"] == m) & (data[\"step\"] == s)][\"chi-squared\"].values)\n",
    "    y.append(y1)\n"
   ]
  },
  {
   "cell_type": "code",
   "execution_count": 7,
   "metadata": {},
   "outputs": [
    {
     "data": {
      "image/png": "[encoded data removed]",
      "text/plain": [
       "<Figure size 432x288 with 1 Axes>"
      ]
     },
     "metadata": {
      "needs_background": "light"
     },
     "output_type": "display_data"
    }
   ],
   "source": [
    "steps = ['1k','3k','10k','30k','100k','300k','1M','3M','8.7M']\n",
    "\n",
    "l1 = plt.plot(steps,y[0],'b',marker='x',label='LSTM')\n",
    "l2 = plt.plot(steps,y[1],'r',marker='o',label='SRN')\n",
    "\n",
    "plt.xlabel('Training Corpus Size')\n",
    "plt.ylabel('Goodness-of-Fit')\n",
    "plt.xticks(steps)\n",
    "plt.legend()\n",
    "\n",
    "plt.savefig(\"Goodness-of-Fit\", bbox_inches = \"tight\")\n",
    "plt.show()"
   ]
  },
  {
   "cell_type": "code",
   "execution_count": null,
   "metadata": {},
   "outputs": [],
   "source": []
  }
 ],
 "metadata": {
  "kernelspec": {
   "display_name": "Python 3",
   "language": "python",
   "name": "python3"
  },
  "language_info": {
   "codemirror_mode": {
    "name": "ipython",
    "version": 3
   },
   "file_extension": ".py",
   "mimetype": "text/x-python",
   "name": "python",
   "nbconvert_exporter": "python",
   "pygments_lexer": "ipython3",
   "version": "3.8.5"
  }
 },
 "nbformat": 4,
 "nbformat_minor": 5
}
