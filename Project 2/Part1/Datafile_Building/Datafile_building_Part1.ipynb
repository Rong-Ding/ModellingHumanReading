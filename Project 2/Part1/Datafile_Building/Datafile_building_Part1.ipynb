{
 "cells": [
  {
   "cell_type": "code",
   "execution_count": 1,
   "metadata": {},
   "outputs": [],
   "source": [
    "import pandas as pd\n",
    "import matplotlib.pyplot as plt\n",
    "import seaborn as sns\n",
    "import numpy as np"
   ]
  },
  {
   "cell_type": "markdown",
   "metadata": {},
   "source": [
    "## Step 1: Merge surprisal from different models into one single file"
   ]
  },
  {
   "cell_type": "code",
   "execution_count": 2,
   "metadata": {},
   "outputs": [
    {
     "name": "stdout",
     "output_type": "stream",
     "text": [
      "4876\n"
     ]
    }
   ],
   "source": [
    "# read in surprisal files\n",
    "df_lstm = pd.read_csv('surprisal.lstm.test_set.csv')\n",
    "df_srn = pd.read_csv('surprisal.srn.test_set.csv')\n",
    "print(len(df_srn))"
   ]
  },
  {
   "cell_type": "markdown",
   "metadata": {},
   "source": [
    "### Surprisal file building\n",
    "This file is expected to save surprisal from all trained models. \n",
    "\n",
    "Columns of the file are supposed to be: **word information** (i.e., word, sentence number, and word position), **model** type (SRN/LSTM), training **step** (aka 9 different corpus sizes), the corresponding **surprisal** of the word which a model type with a specific amount of training produces, and **mean word frequency**."
   ]
  },
  {
   "cell_type": "markdown",
   "metadata": {},
   "source": [
    " "
   ]
  },
  {
   "cell_type": "markdown",
   "metadata": {},
   "source": [
    "First, columns of **word**, **model+step**, and **surprisal** are built."
   ]
  },
  {
   "cell_type": "code",
   "execution_count": 4,
   "metadata": {},
   "outputs": [
    {
     "data": {
      "text/html": [
       "<div>\n",
       "<style scoped>\n",
       "    .dataframe tbody tr th:only-of-type {\n",
       "        vertical-align: middle;\n",
       "    }\n",
       "\n",
       "    .dataframe tbody tr th {\n",
       "        vertical-align: top;\n",
       "    }\n",
       "\n",
       "    .dataframe thead th {\n",
       "        text-align: right;\n",
       "    }\n",
       "</style>\n",
       "<table border=\"1\" class=\"dataframe\">\n",
       "  <thead>\n",
       "    <tr style=\"text-align: right;\">\n",
       "      <th></th>\n",
       "      <th>word</th>\n",
       "      <th>model_step</th>\n",
       "      <th>surprisal</th>\n",
       "    </tr>\n",
       "  </thead>\n",
       "  <tbody>\n",
       "    <tr>\n",
       "      <th>0</th>\n",
       "      <td>anne</td>\n",
       "      <td>SRN_1_1000</td>\n",
       "      <td>9.825153</td>\n",
       "    </tr>\n",
       "    <tr>\n",
       "      <th>1</th>\n",
       "      <td>lost</td>\n",
       "      <td>SRN_1_1000</td>\n",
       "      <td>10.303036</td>\n",
       "    </tr>\n",
       "    <tr>\n",
       "      <th>2</th>\n",
       "      <td>control</td>\n",
       "      <td>SRN_1_1000</td>\n",
       "      <td>10.177670</td>\n",
       "    </tr>\n",
       "    <tr>\n",
       "      <th>3</th>\n",
       "      <td>and</td>\n",
       "      <td>SRN_1_1000</td>\n",
       "      <td>4.205298</td>\n",
       "    </tr>\n",
       "    <tr>\n",
       "      <th>4</th>\n",
       "      <td>laughed</td>\n",
       "      <td>SRN_1_1000</td>\n",
       "      <td>10.960527</td>\n",
       "    </tr>\n",
       "  </tbody>\n",
       "</table>\n",
       "</div>"
      ],
      "text/plain": [
       "      word  model_step  surprisal\n",
       "0     anne  SRN_1_1000   9.825153\n",
       "1     lost  SRN_1_1000  10.303036\n",
       "2  control  SRN_1_1000  10.177670\n",
       "3      and  SRN_1_1000   4.205298\n",
       "4  laughed  SRN_1_1000  10.960527"
      ]
     },
     "execution_count": 4,
     "metadata": {},
     "output_type": "execute_result"
    }
   ],
   "source": [
    "# the cell is for SRN specially\n",
    "colnames_srn = df_srn.columns.tolist()[3:]\n",
    "df_melted_srn = pd.melt(df_srn, id_vars=[\"word\"], value_vars=colnames_srn, var_name='model_step', value_name='surprisal')\n",
    "df_melted_srn.head()"
   ]
  },
  {
   "cell_type": "code",
   "execution_count": 5,
   "metadata": {},
   "outputs": [],
   "source": [
    "# LSTM\n",
    "colnames_lstm = df_lstm.columns.tolist()[3:]\n",
    "df_melted_lstm = pd.melt(df_lstm, id_vars=['word'], value_vars=colnames_lstm, var_name='model_step', value_name='surprisal')"
   ]
  },
  {
   "cell_type": "markdown",
   "metadata": {},
   "source": [
    "Second, **model+step** is split into two columns **model** and **step**. Sentence number (**sent_nr**), word position in sentence (**word_pos**), and **word** are added as well."
   ]
  },
  {
   "cell_type": "code",
   "execution_count": 6,
   "metadata": {},
   "outputs": [],
   "source": [
    "# the information of each word (sent_nr, word_pos) in the test items is read and recorded\n",
    "# Note that word information is identical across models, so here word info from only the original file that contains surprisal from all \n",
    "# lstm models is read.\n",
    "df_wordInfo = df_lstm[[\"sent_nr\", \"word_pos\", \"word\"]]"
   ]
  },
  {
   "cell_type": "code",
   "execution_count": 13,
   "metadata": {},
   "outputs": [],
   "source": [
    "# build a new dataframe that saves all the columns specified\n",
    "df_new = pd.DataFrame(columns=[\"sent_nr\",\"word_pos\",\"word\",\"model\",\"step\",\"surprisal\"])"
   ]
  },
  {
   "cell_type": "code",
   "execution_count": 14,
   "metadata": {},
   "outputs": [],
   "source": [
    "# save SRN-generated surprisals, with word info, model and step\n",
    "for i in range(len(df_melted_srn)):\n",
    "    word = df_melted_srn[\"word\"][i]\n",
    "    model_step = df_melted_srn[\"model_step\"][i]\n",
    "    info = model_step.split(\"_\")\n",
    "    model = info[0]\n",
    "    step = info[2]\n",
    "    surprisal = df_melted_srn[\"surprisal\"][i]\n",
    "    \n",
    "    # find the basic info\n",
    "    ind = i % 4876\n",
    "    sent_nr = df_wordInfo[\"sent_nr\"][ind]\n",
    "    word_pos = df_wordInfo[\"word_pos\"][ind]\n",
    "    df_new.loc[i] = [sent_nr,word_pos,word,model,step,surprisal]"
   ]
  },
  {
   "cell_type": "code",
   "execution_count": 15,
   "metadata": {},
   "outputs": [
    {
     "data": {
      "text/plain": [
       "43884"
      ]
     },
     "execution_count": 15,
     "metadata": {},
     "output_type": "execute_result"
    }
   ],
   "source": [
    "# result (SRN)\n",
    "len(df_new)"
   ]
  },
  {
   "cell_type": "code",
   "execution_count": 16,
   "metadata": {},
   "outputs": [],
   "source": [
    "# add lstm surprisals into the dataframe as well\n",
    "for i in range(len(df_melted_lstm)):\n",
    "    word = df_melted_lstm[\"word\"][i]\n",
    "    model_step = df_melted_lstm[\"model_step\"][i]\n",
    "    info = model_step.split(\"_\")\n",
    "    model = info[0]\n",
    "    step = info[2]\n",
    "    surprisal = df_melted_lstm[\"surprisal\"][i]\n",
    "    \n",
    "    # find the basic info\n",
    "    ind = i % 4876\n",
    "    sent_nr = df_wordInfo[\"sent_nr\"][ind]\n",
    "    word_pos = df_wordInfo[\"word_pos\"][ind]\n",
    "    df_new.loc[i+43884] = [sent_nr,word_pos,word,model,step,surprisal]"
   ]
  },
  {
   "cell_type": "code",
   "execution_count": 17,
   "metadata": {},
   "outputs": [
    {
     "data": {
      "text/html": [
       "<div>\n",
       "<style scoped>\n",
       "    .dataframe tbody tr th:only-of-type {\n",
       "        vertical-align: middle;\n",
       "    }\n",
       "\n",
       "    .dataframe tbody tr th {\n",
       "        vertical-align: top;\n",
       "    }\n",
       "\n",
       "    .dataframe thead th {\n",
       "        text-align: right;\n",
       "    }\n",
       "</style>\n",
       "<table border=\"1\" class=\"dataframe\">\n",
       "  <thead>\n",
       "    <tr style=\"text-align: right;\">\n",
       "      <th></th>\n",
       "      <th>sent_nr</th>\n",
       "      <th>word_pos</th>\n",
       "      <th>word</th>\n",
       "      <th>model</th>\n",
       "      <th>step</th>\n",
       "      <th>surprisal</th>\n",
       "    </tr>\n",
       "  </thead>\n",
       "  <tbody>\n",
       "    <tr>\n",
       "      <th>87763</th>\n",
       "      <td>328</td>\n",
       "      <td>34</td>\n",
       "      <td>getting</td>\n",
       "      <td>LSTM</td>\n",
       "      <td>8773568</td>\n",
       "      <td>6.256627</td>\n",
       "    </tr>\n",
       "    <tr>\n",
       "      <th>87764</th>\n",
       "      <td>328</td>\n",
       "      <td>35</td>\n",
       "      <td>covered</td>\n",
       "      <td>LSTM</td>\n",
       "      <td>8773568</td>\n",
       "      <td>10.130459</td>\n",
       "    </tr>\n",
       "    <tr>\n",
       "      <th>87765</th>\n",
       "      <td>328</td>\n",
       "      <td>36</td>\n",
       "      <td>in</td>\n",
       "      <td>LSTM</td>\n",
       "      <td>8773568</td>\n",
       "      <td>2.114593</td>\n",
       "    </tr>\n",
       "    <tr>\n",
       "      <th>87766</th>\n",
       "      <td>328</td>\n",
       "      <td>37</td>\n",
       "      <td>oil</td>\n",
       "      <td>LSTM</td>\n",
       "      <td>8773568</td>\n",
       "      <td>9.603283</td>\n",
       "    </tr>\n",
       "    <tr>\n",
       "      <th>87767</th>\n",
       "      <td>328</td>\n",
       "      <td>38</td>\n",
       "      <td>.</td>\n",
       "      <td>LSTM</td>\n",
       "      <td>8773568</td>\n",
       "      <td>0.692924</td>\n",
       "    </tr>\n",
       "  </tbody>\n",
       "</table>\n",
       "</div>"
      ],
      "text/plain": [
       "      sent_nr word_pos     word model     step  surprisal\n",
       "87763     328       34  getting  LSTM  8773568   6.256627\n",
       "87764     328       35  covered  LSTM  8773568  10.130459\n",
       "87765     328       36       in  LSTM  8773568   2.114593\n",
       "87766     328       37      oil  LSTM  8773568   9.603283\n",
       "87767     328       38        .  LSTM  8773568   0.692924"
      ]
     },
     "execution_count": 17,
     "metadata": {},
     "output_type": "execute_result"
    }
   ],
   "source": [
    "df_new.tail() # now surprisal from all models included in the dataframe"
   ]
  },
  {
   "cell_type": "markdown",
   "metadata": {},
   "source": [
    "Now, given that I would also like to use mean word frequency later (that is, include **word_freq** as a control variable in LMER), frequency of each word is added as a separate column by the code below."
   ]
  },
  {
   "cell_type": "code",
   "execution_count": 18,
   "metadata": {},
   "outputs": [],
   "source": [
    "# get mean frequency of each word in the test set\n",
    "df_freq = pd.read_csv('C:\\\\Users\\\\rondin\\\\Desktop\\\\Courses\\\\Computational Psycholinguistics\\\\Assignment\\\\Assignment 2\\\\encow14ax.freq0_w\\\\encow14ax.freq0_w.tsv', sep='\\t')"
   ]
  },
  {
   "cell_type": "code",
   "execution_count": 19,
   "metadata": {},
   "outputs": [
    {
     "data": {
      "text/html": [
       "<div>\n",
       "<style scoped>\n",
       "    .dataframe tbody tr th:only-of-type {\n",
       "        vertical-align: middle;\n",
       "    }\n",
       "\n",
       "    .dataframe tbody tr th {\n",
       "        vertical-align: top;\n",
       "    }\n",
       "\n",
       "    .dataframe thead th {\n",
       "        text-align: right;\n",
       "    }\n",
       "</style>\n",
       "<table border=\"1\" class=\"dataframe\">\n",
       "  <thead>\n",
       "    <tr style=\"text-align: right;\">\n",
       "      <th></th>\n",
       "      <th>f_raw</th>\n",
       "      <th>rank_abs</th>\n",
       "      <th>f_permil</th>\n",
       "      <th>f_logpermil+3.98131241406</th>\n",
       "      <th>f_logpermil+10</th>\n",
       "      <th>band</th>\n",
       "      <th>token...</th>\n",
       "    </tr>\n",
       "  </thead>\n",
       "  <tbody>\n",
       "    <tr>\n",
       "      <th>19422964</th>\n",
       "      <td>1</td>\n",
       "      <td>35416</td>\n",
       "      <td>0.000104</td>\n",
       "      <td>0.0</td>\n",
       "      <td>6.018688</td>\n",
       "      <td>29</td>\n",
       "      <td>^×</td>\n",
       "    </tr>\n",
       "    <tr>\n",
       "      <th>19422965</th>\n",
       "      <td>1</td>\n",
       "      <td>35416</td>\n",
       "      <td>0.000104</td>\n",
       "      <td>0.0</td>\n",
       "      <td>6.018688</td>\n",
       "      <td>29</td>\n",
       "      <td>^~^~^~^~</td>\n",
       "    </tr>\n",
       "    <tr>\n",
       "      <th>19422966</th>\n",
       "      <td>1</td>\n",
       "      <td>35416</td>\n",
       "      <td>0.000104</td>\n",
       "      <td>0.0</td>\n",
       "      <td>6.018688</td>\n",
       "      <td>29</td>\n",
       "      <td>^~^~^</td>\n",
       "    </tr>\n",
       "    <tr>\n",
       "      <th>19422967</th>\n",
       "      <td>1</td>\n",
       "      <td>35416</td>\n",
       "      <td>0.000104</td>\n",
       "      <td>0.0</td>\n",
       "      <td>6.018688</td>\n",
       "      <td>29</td>\n",
       "      <td>^~^~</td>\n",
       "    </tr>\n",
       "    <tr>\n",
       "      <th>19422968</th>\n",
       "      <td>1</td>\n",
       "      <td>35416</td>\n",
       "      <td>0.000104</td>\n",
       "      <td>0.0</td>\n",
       "      <td>6.018688</td>\n",
       "      <td>29</td>\n",
       "      <td>^^$£££</td>\n",
       "    </tr>\n",
       "  </tbody>\n",
       "</table>\n",
       "</div>"
      ],
      "text/plain": [
       "          f_raw  rank_abs  f_permil  f_logpermil+3.98131241406  \\\n",
       "19422964      1     35416  0.000104                        0.0   \n",
       "19422965      1     35416  0.000104                        0.0   \n",
       "19422966      1     35416  0.000104                        0.0   \n",
       "19422967      1     35416  0.000104                        0.0   \n",
       "19422968      1     35416  0.000104                        0.0   \n",
       "\n",
       "          f_logpermil+10  band  token...  \n",
       "19422964        6.018688    29        ^×  \n",
       "19422965        6.018688    29  ^~^~^~^~  \n",
       "19422966        6.018688    29     ^~^~^  \n",
       "19422967        6.018688    29      ^~^~  \n",
       "19422968        6.018688    29    ^^$£££  "
      ]
     },
     "execution_count": 19,
     "metadata": {},
     "output_type": "execute_result"
    }
   ],
   "source": [
    "df_freq.tail() # example content in the frequency file; f_logpermil+3.98131241406 was picked as word_freq"
   ]
  },
  {
   "cell_type": "code",
   "execution_count": 20,
   "metadata": {},
   "outputs": [
    {
     "name": "stderr",
     "output_type": "stream",
     "text": [
      "<ipython-input-20-fc33e5894eeb>:16: SettingWithCopyWarning: \n",
      "A value is trying to be set on a copy of a slice from a DataFrame.\n",
      "Try using .loc[row_indexer,col_indexer] = value instead\n",
      "\n",
      "See the caveats in the documentation: https://pandas.pydata.org/pandas-docs/stable/user_guide/indexing.html#returning-a-view-versus-a-copy\n",
      "  rows_token[\"word_freq\"] = freq\n"
     ]
    }
   ],
   "source": [
    "# add word_freq as a column and form a new dataframe\n",
    "\n",
    "df_all = pd.DataFrame(columns=[\"sent_nr\",\"word_pos\",\"word\",\"model\",\"step\",\"surprisal\",\"word_freq\"])\n",
    "\n",
    "tokens = []\n",
    "for i in range(len(df_lstm)):\n",
    "    token = df_new[\"word\"][i]\n",
    "    #print(i) # printed i as output to inspect the progress...\n",
    "    if token in tokens:\n",
    "        continue\n",
    "    else:\n",
    "        rows_token = df_new[(df_new[\"word\"] == token)]\n",
    "        \n",
    "        token_depunc = token.replace(\"'\",\"\")\n",
    "        freq = df_freq[(df_freq[\"token...\"] == token_depunc)][\"f_logpermil+3.98131241406\"].values[0] # chose log10freq+realnum\n",
    "        rows_token[\"word_freq\"] = freq\n",
    "        \n",
    "        df_all = pd.concat([df_all, rows_token])\n",
    "        \n",
    "        tokens.append(token)"
   ]
  },
  {
   "cell_type": "code",
   "execution_count": 21,
   "metadata": {},
   "outputs": [
    {
     "data": {
      "text/html": [
       "<div>\n",
       "<style scoped>\n",
       "    .dataframe tbody tr th:only-of-type {\n",
       "        vertical-align: middle;\n",
       "    }\n",
       "\n",
       "    .dataframe tbody tr th {\n",
       "        vertical-align: top;\n",
       "    }\n",
       "\n",
       "    .dataframe thead th {\n",
       "        text-align: right;\n",
       "    }\n",
       "</style>\n",
       "<table border=\"1\" class=\"dataframe\">\n",
       "  <thead>\n",
       "    <tr style=\"text-align: right;\">\n",
       "      <th></th>\n",
       "      <th>sent_nr</th>\n",
       "      <th>word_pos</th>\n",
       "      <th>word</th>\n",
       "      <th>model</th>\n",
       "      <th>step</th>\n",
       "      <th>surprisal</th>\n",
       "      <th>word_freq</th>\n",
       "    </tr>\n",
       "  </thead>\n",
       "  <tbody>\n",
       "    <tr>\n",
       "      <th>68262</th>\n",
       "      <td>328</td>\n",
       "      <td>37</td>\n",
       "      <td>oil</td>\n",
       "      <td>LSTM</td>\n",
       "      <td>100000</td>\n",
       "      <td>9.130299</td>\n",
       "      <td>5.992917</td>\n",
       "    </tr>\n",
       "    <tr>\n",
       "      <th>73138</th>\n",
       "      <td>328</td>\n",
       "      <td>37</td>\n",
       "      <td>oil</td>\n",
       "      <td>LSTM</td>\n",
       "      <td>300000</td>\n",
       "      <td>8.398074</td>\n",
       "      <td>5.992917</td>\n",
       "    </tr>\n",
       "    <tr>\n",
       "      <th>78014</th>\n",
       "      <td>328</td>\n",
       "      <td>37</td>\n",
       "      <td>oil</td>\n",
       "      <td>LSTM</td>\n",
       "      <td>1000000</td>\n",
       "      <td>9.375603</td>\n",
       "      <td>5.992917</td>\n",
       "    </tr>\n",
       "    <tr>\n",
       "      <th>82890</th>\n",
       "      <td>328</td>\n",
       "      <td>37</td>\n",
       "      <td>oil</td>\n",
       "      <td>LSTM</td>\n",
       "      <td>3000000</td>\n",
       "      <td>9.936421</td>\n",
       "      <td>5.992917</td>\n",
       "    </tr>\n",
       "    <tr>\n",
       "      <th>87766</th>\n",
       "      <td>328</td>\n",
       "      <td>37</td>\n",
       "      <td>oil</td>\n",
       "      <td>LSTM</td>\n",
       "      <td>8773568</td>\n",
       "      <td>9.603283</td>\n",
       "      <td>5.992917</td>\n",
       "    </tr>\n",
       "  </tbody>\n",
       "</table>\n",
       "</div>"
      ],
      "text/plain": [
       "      sent_nr word_pos word model     step  surprisal  word_freq\n",
       "68262     328       37  oil  LSTM   100000   9.130299   5.992917\n",
       "73138     328       37  oil  LSTM   300000   8.398074   5.992917\n",
       "78014     328       37  oil  LSTM  1000000   9.375603   5.992917\n",
       "82890     328       37  oil  LSTM  3000000   9.936421   5.992917\n",
       "87766     328       37  oil  LSTM  8773568   9.603283   5.992917"
      ]
     },
     "execution_count": 21,
     "metadata": {},
     "output_type": "execute_result"
    }
   ],
   "source": [
    "# new dataframe visualisation\n",
    "df_all.tail()"
   ]
  },
  {
   "cell_type": "code",
   "execution_count": 22,
   "metadata": {},
   "outputs": [],
   "source": [
    "df_all = df_all.sort_index()"
   ]
  },
  {
   "cell_type": "code",
   "execution_count": 23,
   "metadata": {},
   "outputs": [],
   "source": [
    "# save the new dataframe as a file\n",
    "df_all.to_csv(\"surprisal_all.csv\") "
   ]
  },
  {
   "cell_type": "markdown",
   "metadata": {},
   "source": [
    "## Step 2: LMER datafile creation (a separate file for each of the 2\\*9=18 models)\n",
    "\n",
    "In this step I integrate surprisal (and frequency) with the self-paced reading dataset. Word surprisal and frequency is matched with the dataset by sentence number and word position. I create a datafile for each of the 18 models separately.\n",
    "\n",
    "Note that apart from surprisal of a word, surprisal of the preceding two words are also added to control for the spillover effect in the self-paced reading data. Word length is also calculated and added as a column Each produced datafile thus includes columns of:\n",
    "\n",
    "\"**subj_nr**\",\"**sent_nr**\",\"**sent_pos**\",\"correct\",\"answer_time\",\"**word_pos**\",\"**word**\",\"**RT**\" (which are available already in the dataset)\n",
    "\n",
    "and \n",
    "\n",
    "\"model\",\"step\",\"**surprisal**\",\"**surprisal_-1**\",\"**surprisal_-2**\",\"**word_freq**\",\"**wordLen**\" (which are additionally added to the datafile)"
   ]
  },
  {
   "cell_type": "markdown",
   "metadata": {},
   "source": [
    " "
   ]
  },
  {
   "cell_type": "markdown",
   "metadata": {},
   "source": [
    "First, as _sent_nr_ in **surprisal_all.csv** is not the original number of sentence stimuli but rather was created by \n",
    "_get_surp.py_, I'll have to first add the real stimulus index of each sentence \n",
    "(as **sent_ind**) to enable further integration."
   ]
  },
  {
   "cell_type": "code",
   "execution_count": 24,
   "metadata": {},
   "outputs": [],
   "source": [
    "baseloc = \"C:\\\\Users\\\\rondin\\\\Desktop\\\\Courses\\\\Computational Psycholinguistics\\\\Assignment\\\\Assignment 2\""
   ]
  },
  {
   "cell_type": "code",
   "execution_count": 25,
   "metadata": {},
   "outputs": [
    {
     "data": {
      "text/html": [
       "<div>\n",
       "<style scoped>\n",
       "    .dataframe tbody tr th:only-of-type {\n",
       "        vertical-align: middle;\n",
       "    }\n",
       "\n",
       "    .dataframe tbody tr th {\n",
       "        vertical-align: top;\n",
       "    }\n",
       "\n",
       "    .dataframe thead th {\n",
       "        text-align: right;\n",
       "    }\n",
       "</style>\n",
       "<table border=\"1\" class=\"dataframe\">\n",
       "  <thead>\n",
       "    <tr style=\"text-align: right;\">\n",
       "      <th></th>\n",
       "      <th>Unnamed: 0</th>\n",
       "      <th>sent_nr</th>\n",
       "      <th>word_pos</th>\n",
       "      <th>word</th>\n",
       "      <th>model</th>\n",
       "      <th>step</th>\n",
       "      <th>surprisal</th>\n",
       "      <th>word_freq</th>\n",
       "    </tr>\n",
       "  </thead>\n",
       "  <tbody>\n",
       "    <tr>\n",
       "      <th>0</th>\n",
       "      <td>0</td>\n",
       "      <td>0</td>\n",
       "      <td>0</td>\n",
       "      <td>anne</td>\n",
       "      <td>SRN</td>\n",
       "      <td>1000</td>\n",
       "      <td>9.825153</td>\n",
       "      <td>3.034628</td>\n",
       "    </tr>\n",
       "    <tr>\n",
       "      <th>1</th>\n",
       "      <td>1</td>\n",
       "      <td>0</td>\n",
       "      <td>1</td>\n",
       "      <td>lost</td>\n",
       "      <td>SRN</td>\n",
       "      <td>1000</td>\n",
       "      <td>10.303036</td>\n",
       "      <td>6.128433</td>\n",
       "    </tr>\n",
       "    <tr>\n",
       "      <th>2</th>\n",
       "      <td>2</td>\n",
       "      <td>0</td>\n",
       "      <td>2</td>\n",
       "      <td>control</td>\n",
       "      <td>SRN</td>\n",
       "      <td>1000</td>\n",
       "      <td>10.177670</td>\n",
       "      <td>6.317902</td>\n",
       "    </tr>\n",
       "    <tr>\n",
       "      <th>3</th>\n",
       "      <td>3</td>\n",
       "      <td>0</td>\n",
       "      <td>3</td>\n",
       "      <td>and</td>\n",
       "      <td>SRN</td>\n",
       "      <td>1000</td>\n",
       "      <td>4.205298</td>\n",
       "      <td>8.363556</td>\n",
       "    </tr>\n",
       "    <tr>\n",
       "      <th>4</th>\n",
       "      <td>4</td>\n",
       "      <td>0</td>\n",
       "      <td>4</td>\n",
       "      <td>laughed</td>\n",
       "      <td>SRN</td>\n",
       "      <td>1000</td>\n",
       "      <td>10.960527</td>\n",
       "      <td>5.005579</td>\n",
       "    </tr>\n",
       "  </tbody>\n",
       "</table>\n",
       "</div>"
      ],
      "text/plain": [
       "   Unnamed: 0  sent_nr  word_pos     word model  step  surprisal  word_freq\n",
       "0           0        0         0     anne   SRN  1000   9.825153   3.034628\n",
       "1           1        0         1     lost   SRN  1000  10.303036   6.128433\n",
       "2           2        0         2  control   SRN  1000  10.177670   6.317902\n",
       "3           3        0         3      and   SRN  1000   4.205298   8.363556\n",
       "4           4        0         4  laughed   SRN  1000  10.960527   5.005579"
      ]
     },
     "execution_count": 25,
     "metadata": {},
     "output_type": "execute_result"
    }
   ],
   "source": [
    "# read in the surprisal file created\n",
    "file = baseloc + \"\\\\surprisal_all.csv\"\n",
    "df = pd.read_csv(file)\n",
    "df.head()"
   ]
  },
  {
   "cell_type": "code",
   "execution_count": 26,
   "metadata": {},
   "outputs": [
    {
     "data": {
      "text/html": [
       "<div>\n",
       "<style scoped>\n",
       "    .dataframe tbody tr th:only-of-type {\n",
       "        vertical-align: middle;\n",
       "    }\n",
       "\n",
       "    .dataframe tbody tr th {\n",
       "        vertical-align: top;\n",
       "    }\n",
       "\n",
       "    .dataframe thead th {\n",
       "        text-align: right;\n",
       "    }\n",
       "</style>\n",
       "<table border=\"1\" class=\"dataframe\">\n",
       "  <thead>\n",
       "    <tr style=\"text-align: right;\">\n",
       "      <th></th>\n",
       "      <th>sentence</th>\n",
       "      <th>sent_nr_real</th>\n",
       "      <th>sent_nr</th>\n",
       "    </tr>\n",
       "  </thead>\n",
       "  <tbody>\n",
       "    <tr>\n",
       "      <th>48</th>\n",
       "      <td>powerful in the wrong hands , is that .</td>\n",
       "      <td>51</td>\n",
       "      <td>48</td>\n",
       "    </tr>\n",
       "  </tbody>\n",
       "</table>\n",
       "</div>"
      ],
      "text/plain": [
       "                                   sentence  sent_nr_real  sent_nr\n",
       "48  powerful in the wrong hands , is that .            51       48"
      ]
     },
     "execution_count": 26,
     "metadata": {},
     "output_type": "execute_result"
    }
   ],
   "source": [
    "# read in sentence stimulus indices saved beforehand\n",
    "indices = baseloc + \"\\\\items\\\\test_set_indices.csv\"\n",
    "df_indices = pd.read_csv(indices)\n",
    "# example visualisation\n",
    "df_indices[df_indices[\"sent_nr_real\"] == 51]"
   ]
  },
  {
   "cell_type": "code",
   "execution_count": 29,
   "metadata": {
    "scrolled": false
   },
   "outputs": [
    {
     "data": {
      "text/html": [
       "<div>\n",
       "<style scoped>\n",
       "    .dataframe tbody tr th:only-of-type {\n",
       "        vertical-align: middle;\n",
       "    }\n",
       "\n",
       "    .dataframe tbody tr th {\n",
       "        vertical-align: top;\n",
       "    }\n",
       "\n",
       "    .dataframe thead th {\n",
       "        text-align: right;\n",
       "    }\n",
       "</style>\n",
       "<table border=\"1\" class=\"dataframe\">\n",
       "  <thead>\n",
       "    <tr style=\"text-align: right;\">\n",
       "      <th></th>\n",
       "      <th>Unnamed: 0</th>\n",
       "      <th>sent_nr</th>\n",
       "      <th>word_pos</th>\n",
       "      <th>word</th>\n",
       "      <th>model</th>\n",
       "      <th>step</th>\n",
       "      <th>surprisal</th>\n",
       "      <th>word_freq</th>\n",
       "      <th>sent_ind</th>\n",
       "    </tr>\n",
       "  </thead>\n",
       "  <tbody>\n",
       "    <tr>\n",
       "      <th>0</th>\n",
       "      <td>0</td>\n",
       "      <td>0</td>\n",
       "      <td>0</td>\n",
       "      <td>anne</td>\n",
       "      <td>SRN</td>\n",
       "      <td>1000</td>\n",
       "      <td>9.825153</td>\n",
       "      <td>3.034628</td>\n",
       "      <td>1</td>\n",
       "    </tr>\n",
       "    <tr>\n",
       "      <th>1</th>\n",
       "      <td>1</td>\n",
       "      <td>0</td>\n",
       "      <td>1</td>\n",
       "      <td>lost</td>\n",
       "      <td>SRN</td>\n",
       "      <td>1000</td>\n",
       "      <td>10.303036</td>\n",
       "      <td>6.128433</td>\n",
       "      <td>1</td>\n",
       "    </tr>\n",
       "    <tr>\n",
       "      <th>2</th>\n",
       "      <td>2</td>\n",
       "      <td>0</td>\n",
       "      <td>2</td>\n",
       "      <td>control</td>\n",
       "      <td>SRN</td>\n",
       "      <td>1000</td>\n",
       "      <td>10.177670</td>\n",
       "      <td>6.317902</td>\n",
       "      <td>1</td>\n",
       "    </tr>\n",
       "    <tr>\n",
       "      <th>3</th>\n",
       "      <td>3</td>\n",
       "      <td>0</td>\n",
       "      <td>3</td>\n",
       "      <td>and</td>\n",
       "      <td>SRN</td>\n",
       "      <td>1000</td>\n",
       "      <td>4.205298</td>\n",
       "      <td>8.363556</td>\n",
       "      <td>1</td>\n",
       "    </tr>\n",
       "    <tr>\n",
       "      <th>4</th>\n",
       "      <td>4</td>\n",
       "      <td>0</td>\n",
       "      <td>4</td>\n",
       "      <td>laughed</td>\n",
       "      <td>SRN</td>\n",
       "      <td>1000</td>\n",
       "      <td>10.960527</td>\n",
       "      <td>5.005579</td>\n",
       "      <td>1</td>\n",
       "    </tr>\n",
       "  </tbody>\n",
       "</table>\n",
       "</div>"
      ],
      "text/plain": [
       "   Unnamed: 0  sent_nr  word_pos     word model  step  surprisal  word_freq  \\\n",
       "0           0        0         0     anne   SRN  1000   9.825153   3.034628   \n",
       "1           1        0         1     lost   SRN  1000  10.303036   6.128433   \n",
       "2           2        0         2  control   SRN  1000  10.177670   6.317902   \n",
       "3           3        0         3      and   SRN  1000   4.205298   8.363556   \n",
       "4           4        0         4  laughed   SRN  1000  10.960527   5.005579   \n",
       "\n",
       "   sent_ind  \n",
       "0         1  \n",
       "1         1  \n",
       "2         1  \n",
       "3         1  \n",
       "4         1  "
      ]
     },
     "execution_count": 29,
     "metadata": {},
     "output_type": "execute_result"
    }
   ],
   "source": [
    "# add read-in indcies to the datafranme\n",
    "sent_ind = []\n",
    "for i in range(len(df)):\n",
    "    sent_nr = df[\"sent_nr\"][i]\n",
    "    sent_nr_real = df_indices[\"sent_nr_real\"][sent_nr]\n",
    "    #print(sent_nr_real)\n",
    "    sent_ind.append(sent_nr_real)\n",
    "\n",
    "df[\"sent_ind\"] = sent_ind\n",
    "df.head()"
   ]
  },
  {
   "cell_type": "code",
   "execution_count": 47,
   "metadata": {},
   "outputs": [
    {
     "data": {
      "text/plain": [
       "1    1000\n",
       "2    1000\n",
       "3    1000\n",
       "4    1000\n",
       "Name: step, dtype: int64"
      ]
     },
     "execution_count": 47,
     "metadata": {},
     "output_type": "execute_result"
    }
   ],
   "source": [
    "df.iloc[1:5][\"step\"]"
   ]
  },
  {
   "cell_type": "markdown",
   "metadata": {},
   "source": [
    "Second, the dataset is read in. Word surprisal (including those of the preceding two words) and frequency are then integrated wih the dataset."
   ]
  },
  {
   "cell_type": "code",
   "execution_count": 32,
   "metadata": {},
   "outputs": [
    {
     "data": {
      "text/html": [
       "<div>\n",
       "<style scoped>\n",
       "    .dataframe tbody tr th:only-of-type {\n",
       "        vertical-align: middle;\n",
       "    }\n",
       "\n",
       "    .dataframe tbody tr th {\n",
       "        vertical-align: top;\n",
       "    }\n",
       "\n",
       "    .dataframe thead th {\n",
       "        text-align: right;\n",
       "    }\n",
       "</style>\n",
       "<table border=\"1\" class=\"dataframe\">\n",
       "  <thead>\n",
       "    <tr style=\"text-align: right;\">\n",
       "      <th></th>\n",
       "      <th>subj_nr</th>\n",
       "      <th>sent_nr</th>\n",
       "      <th>sent_pos</th>\n",
       "      <th>correct</th>\n",
       "      <th>answer_time</th>\n",
       "      <th>word_pos</th>\n",
       "      <th>word</th>\n",
       "      <th>RT</th>\n",
       "    </tr>\n",
       "  </thead>\n",
       "  <tbody>\n",
       "    <tr>\n",
       "      <th>0</th>\n",
       "      <td>1</td>\n",
       "      <td>2</td>\n",
       "      <td>12</td>\n",
       "      <td>c</td>\n",
       "      <td>3630.0</td>\n",
       "      <td>1</td>\n",
       "      <td>Billy</td>\n",
       "      <td>376</td>\n",
       "    </tr>\n",
       "    <tr>\n",
       "      <th>1</th>\n",
       "      <td>1</td>\n",
       "      <td>2</td>\n",
       "      <td>12</td>\n",
       "      <td>c</td>\n",
       "      <td>3630.0</td>\n",
       "      <td>2</td>\n",
       "      <td>wrote</td>\n",
       "      <td>364</td>\n",
       "    </tr>\n",
       "    <tr>\n",
       "      <th>2</th>\n",
       "      <td>1</td>\n",
       "      <td>2</td>\n",
       "      <td>12</td>\n",
       "      <td>c</td>\n",
       "      <td>3630.0</td>\n",
       "      <td>3</td>\n",
       "      <td>on</td>\n",
       "      <td>394</td>\n",
       "    </tr>\n",
       "    <tr>\n",
       "      <th>3</th>\n",
       "      <td>1</td>\n",
       "      <td>2</td>\n",
       "      <td>12</td>\n",
       "      <td>c</td>\n",
       "      <td>3630.0</td>\n",
       "      <td>4</td>\n",
       "      <td>the</td>\n",
       "      <td>353</td>\n",
       "    </tr>\n",
       "    <tr>\n",
       "      <th>4</th>\n",
       "      <td>1</td>\n",
       "      <td>2</td>\n",
       "      <td>12</td>\n",
       "      <td>c</td>\n",
       "      <td>3630.0</td>\n",
       "      <td>5</td>\n",
       "      <td>envelope.</td>\n",
       "      <td>354</td>\n",
       "    </tr>\n",
       "  </tbody>\n",
       "</table>\n",
       "</div>"
      ],
      "text/plain": [
       "   subj_nr  sent_nr  sent_pos correct  answer_time  word_pos       word   RT\n",
       "0        1        2        12       c       3630.0         1      Billy  376\n",
       "1        1        2        12       c       3630.0         2      wrote  364\n",
       "2        1        2        12       c       3630.0         3         on  394\n",
       "3        1        2        12       c       3630.0         4        the  353\n",
       "4        1        2        12       c       3630.0         5  envelope.  354"
      ]
     },
     "execution_count": 32,
     "metadata": {},
     "output_type": "execute_result"
    }
   ],
   "source": [
    "# read in the dataset\n",
    "SPR = baseloc + \"\\\\Part 1\\\\selfpacedreading.RT.csv\"\n",
    "\n",
    "df_rt = pd.read_csv(SPR)\n",
    "df_rt.head()"
   ]
  },
  {
   "cell_type": "code",
   "execution_count": 54,
   "metadata": {},
   "outputs": [],
   "source": [
    "# a function to integrate all columns together in a single dataframe\n",
    "\n",
    "def gen_datafile(model, step):\n",
    "    df_ms = pd.DataFrame(columns=[\"subj_nr\",\"sent_nr\",\"sent_pos\",\"correct\",\"answer_time\",\"word_pos\",\"word\",\"RT\",\"model\",\"step\",\"surprisal\",\"surprisal_-1\",\"surprisal_-2\",\"word_freq\",\"wordLen\"])\n",
    "    \n",
    "    df_surp = df[(df[\"model\"] == model) & (df[\"step\"] == step)]\n",
    "    df_surp = df_surp.reset_index(drop=True)\n",
    "    \n",
    "    i = 0\n",
    "    print(df_surp.head())\n",
    "    sent_prev = df_surp[\"sent_ind\"][i]\n",
    "    punc_num = 0\n",
    "    while i < len(df_surp):\n",
    "        sent_nr = df_surp[\"sent_ind\"][i]\n",
    "        if sent_prev != sent_nr:\n",
    "            punc_num = 0\n",
    "            sent_prev = sent_nr\n",
    "        #print(sent_nr)\n",
    "        word_pos = df_surp[\"word_pos\"][i] \n",
    "        word_pos_rt = word_pos + 1 - punc_num\n",
    "        #print(word_pos)\n",
    "        #print(punc_num)\n",
    "        word = df_surp[\"word\"][i]\n",
    "        #print(word)\n",
    "\n",
    "        i += 1\n",
    "        if word in string.punctuation:\n",
    "            continue\n",
    "        else:\n",
    "            df_word = df_rt[(df_rt[\"sent_nr\"] == sent_nr) & (df_rt[\"word_pos\"] == word_pos_rt)] # each single word from all participants\n",
    "            #print(df_word.head())\n",
    "            word_freq = df_surp[(df_surp[\"sent_ind\"] == sent_nr) & (df_surp[\"word_pos\"] == word_pos)][\"word_freq\"].to_list()[0]\n",
    "            word_in_rt = df_word[\"word\"].to_list()[0]\n",
    "            #print(word_in_rt)\n",
    "            surp0 = df_surp[(df_surp[\"sent_ind\"] == sent_nr) & (df_surp[\"word_pos\"] == word_pos)][\"surprisal\"].to_list()[0]\n",
    "            surp_1 = df_surp[(df_surp[\"sent_ind\"] == sent_nr) & (df_surp[\"word_pos\"] == word_pos-1)][\"surprisal\"].to_list()\n",
    "            surp_2 = df_surp[(df_surp[\"sent_ind\"] == sent_nr) & (df_surp[\"word_pos\"] == word_pos-2)][\"surprisal\"].to_list()\n",
    "            surp_m1 = np.NaN\n",
    "            surp_m2 = np.NaN\n",
    "            if len(surp_1) != 0:\n",
    "                surp_m1 = surp_1[0]\n",
    "            if len(surp_2) != 0:\n",
    "                surp_m2 = surp_2[0]\n",
    "            if word_in_rt[-1] in string.punctuation: # when it comes to the last word, must skip puncs in the next step\n",
    "                surp0 = np.NaN\n",
    "                punc_num += 1\n",
    "\n",
    "            df_word[\"model\"] = model\n",
    "            df_word[\"step\"] = step\n",
    "            df_word[\"surprisal\"] = surp0\n",
    "            df_word[\"surprisal_-1\"] = surp_m1\n",
    "            df_word[\"surprisal_-2\"] = surp_m2\n",
    "            df_word[\"word_freq\"] = word_freq\n",
    "            df_word[\"wordLen\"] = len(word)\n",
    "\n",
    "            df_ms = pd.concat([df_ms, df_word])\n",
    "    return df_ms"
   ]
  },
  {
   "cell_type": "code",
   "execution_count": 55,
   "metadata": {},
   "outputs": [],
   "source": [
    "import string"
   ]
  },
  {
   "cell_type": "code",
   "execution_count": null,
   "metadata": {},
   "outputs": [],
   "source": [
    "# use a for-loop to generate datafiles of all models in an automatic manner\n",
    "models = [\"LSTM\",\"SRN\"]\n",
    "steps = [1000,3000,10000,30000,100000,300000,1000000,3000000,8773568]\n",
    "\n",
    "for model in models:\n",
    "    for step in steps:\n",
    "        df_new = gen_datafile(model, step)\n",
    "        df_new = df_new.sort_index()\n",
    "        \n",
    "        data = df_new.drop(df_new[(np.isnan(df_new.surprisal) == 1) | (np.isnan(df_new[\"surprisal_-1\"]) == 1) | (np.isnan(df_new[\"surprisal_-2\"]) == 1)].index)\n",
    "        data = data.sort_index()\n",
    "        data.to_csv('data_{0}_{1}.csv'.format(model, step))"
   ]
  },
  {
   "cell_type": "code",
   "execution_count": null,
   "metadata": {},
   "outputs": [],
   "source": []
  }
 ],
 "metadata": {
  "kernelspec": {
   "display_name": "Python 3",
   "language": "python",
   "name": "python3"
  },
  "language_info": {
   "codemirror_mode": {
    "name": "ipython",
    "version": 3
   },
   "file_extension": ".py",
   "mimetype": "text/x-python",
   "name": "python",
   "nbconvert_exporter": "python",
   "pygments_lexer": "ipython3",
   "version": "3.7.4"
  }
 },
 "nbformat": 4,
 "nbformat_minor": 4
}
