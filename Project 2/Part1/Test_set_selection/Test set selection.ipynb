{
 "cells": [
  {
   "cell_type": "code",
   "execution_count": 1,
   "metadata": {},
   "outputs": [],
   "source": [
    "import pandas as pd"
   ]
  },
  {
   "cell_type": "code",
   "execution_count": 2,
   "metadata": {},
   "outputs": [],
   "source": [
    "baseloc = 'C:\\\\Users\\\\rondin\\\\Desktop\\\\Courses\\\\Computational Psycholinguistics\\\\Assignment\\\\Assignment 2'"
   ]
  },
  {
   "cell_type": "code",
   "execution_count": 9,
   "metadata": {},
   "outputs": [],
   "source": [
    "# load stimuli\n",
    "stim_file = baseloc+'\\\\13428_2012_313_MOESM1_ESM\\\\stimuli.csv'\n",
    "\n",
    "df = pd.read_csv(stim_file, encoding='cp1252')"
   ]
  },
  {
   "cell_type": "code",
   "execution_count": 18,
   "metadata": {},
   "outputs": [
    {
     "name": "stdout",
     "output_type": "stream",
     "text": [
      "['<s>', 'i', \"don't\", 'really', 'know', 'what']\n"
     ]
    }
   ],
   "source": [
    "# load vocab\n",
    "file = baseloc+'\\\\vocabulary.txt'\n",
    "vocab_f = open(file)\n",
    "\n",
    "vocab = vocab_f.read().split()\n",
    "#print(vocab[:6])"
   ]
  },
  {
   "cell_type": "code",
   "execution_count": 56,
   "metadata": {},
   "outputs": [],
   "source": [
    "# check which sentences have all the words in the vocab\n",
    "import string\n",
    "\n",
    "sentences = [] # split words and puncs\n",
    "for i in range(len(df)):\n",
    "    stimulus = df[\"sentence\"][i]\n",
    "    words = stimulus.split()\n",
    "    if len(words) > 50:\n",
    "        continue\n",
    "    else:\n",
    "        words_new = []\n",
    "        for word in words:\n",
    "            # identify punctuations\n",
    "            word = word.lower()\n",
    "            if word[-1] in string.punctuation:\n",
    "                punc = word[-1]\n",
    "                w = word.strip(punc)\n",
    "                words_new.append(w)\n",
    "                words_new.append(punc)\n",
    "            else:\n",
    "                words_new.append(word)\n",
    "            \n",
    "        sentence = ' '.join(words_new)\n",
    "        sentences.append([sentence,i+1]) # i+1 = sentence nr\n",
    "\n",
    "stimuli_selected = []# exclude sentences with words not in the vocab\n",
    "for sentence, nr in sentences:     \n",
    "    if len(words_new) > 50:\n",
    "        continue\n",
    "    else:\n",
    "        words = sentence.split()\n",
    "        isStimulus = True\n",
    "        i = 0\n",
    "        for word in words:\n",
    "            if word not in vocab:\n",
    "                #print(i)\n",
    "                #print(word)\n",
    "                isStimulus = False\n",
    "                break\n",
    "            i += 1\n",
    "        if isStimulus:\n",
    "            stimuli_selected.append([sentence, nr])"
   ]
  },
  {
   "cell_type": "code",
   "execution_count": 45,
   "metadata": {},
   "outputs": [],
   "source": [
    "# write in the test set\n",
    "filepath = baseloc + \"\\\\items\\\\test_set.txt\"\n",
    "f = open(filepath,\"w+\")\n",
    "for s, nr in stimuli_selected:\n",
    "    f.write(s + '\\n')\n",
    "f.close()"
   ]
  },
  {
   "cell_type": "code",
   "execution_count": 62,
   "metadata": {},
   "outputs": [],
   "source": [
    "# write the selected sentences with the original stimulus number into a separate, to identify test sentences in subsequent analyses\n",
    "import csv\n",
    "filepath = baseloc + \"\\\\items\\\\test_set_indices.csv\"\n",
    "\n",
    "Rows = [\"sentence\", \"sent_nr\"]\n",
    "with open(filepath, 'w', newline=\"\") as f: \n",
    "    write = csv.writer(f) \n",
    "    write.writerow(Rows) \n",
    "    write.writerows(stimuli_selected) "
   ]
  },
  {
   "cell_type": "code",
   "execution_count": null,
   "metadata": {},
   "outputs": [],
   "source": []
  }
 ],
 "metadata": {
  "kernelspec": {
   "display_name": "Python 3",
   "language": "python",
   "name": "python3"
  },
  "language_info": {
   "codemirror_mode": {
    "name": "ipython",
    "version": 3
   },
   "file_extension": ".py",
   "mimetype": "text/x-python",
   "name": "python",
   "nbconvert_exporter": "python",
   "pygments_lexer": "ipython3",
   "version": "3.8.5"
  }
 },
 "nbformat": 4,
 "nbformat_minor": 4
}
