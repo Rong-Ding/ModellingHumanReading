{
 "cells": [
  {
   "cell_type": "code",
   "execution_count": 1,
   "metadata": {},
   "outputs": [],
   "source": [
    "import pandas as pd\n",
    "import matplotlib.pyplot as plt\n",
    "import seaborn as sns\n",
    "import numpy as np"
   ]
  },
  {
   "cell_type": "code",
   "execution_count": 8,
   "metadata": {},
   "outputs": [
    {
     "name": "stdout",
     "output_type": "stream",
     "text": [
      "Total num of trials: 13208\n"
     ]
    }
   ],
   "source": [
    "# readin data_naming datafiles\n",
    "#data_naming = pd.read_csv('naming_simu_w7s150.csv')\n",
    "data_naming = pd.read_csv('lexdec_simu_w5s100.csv')\n",
    "\n",
    "#data_naming = data_naming.drop(data_naming[np.isnan(data_naming.cosine) == 1].index)\n",
    "data_naming.reset_index(drop=True,inplace=True) # reset the row index\n",
    "print(\"Total num of trials: {}\".format(len(data_naming)))\n",
    "#data_naming.head()"
   ]
  },
  {
   "cell_type": "markdown",
   "metadata": {},
   "source": [
    "## Data preprocessing (cleaning)"
   ]
  },
  {
   "cell_type": "markdown",
   "metadata": {},
   "source": [
    "### Step 1: Remove all trials of a target if one of its prime is missing"
   ]
  },
  {
   "cell_type": "code",
   "execution_count": 9,
   "metadata": {},
   "outputs": [
    {
     "name": "stdout",
     "output_type": "stream",
     "text": [
      "Total number of trials after removing targets with missing primes: 13112\n"
     ]
    }
   ],
   "source": [
    "# remove all primes of a target if any one prime of the target is missing\n",
    "targets = data_naming[\"target\"].values.tolist()\n",
    "\n",
    "# extract all targets w/o repetition\n",
    "tarlist = []\n",
    "for word in targets:\n",
    "    if word not in tarlist:\n",
    "        tarlist.append(word)\n",
    "    else:\n",
    "        continue\n",
    "#print(tarlist)\n",
    "\n",
    "# delete every trial with a target which doesn't count to 8 (i.e. 2 isi * 4 condition)\n",
    "for target in tarlist:\n",
    "    tar_trials = data_naming[(data_naming[\"target\"]== target)]\n",
    "    if tar_trials.shape[0] == 8:\n",
    "        continue\n",
    "    else:\n",
    "        data_naming = data_naming.drop(data_naming[data_naming[\"target\"]== target].index)\n",
    "\n",
    "data_naming.reset_index(drop=True,inplace=True) # reset the row index\n",
    "\n",
    "print(\"Total number of trials after removing targets with missing primes: {}\".format(len(data_naming)))"
   ]
  },
  {
   "cell_type": "code",
   "execution_count": 12,
   "metadata": {
    "scrolled": true
   },
   "outputs": [
    {
     "data": {
      "text/plain": [
       "count    6556.000000\n",
       "mean        0.085682\n",
       "std         0.163906\n",
       "min        -0.306913\n",
       "25%        -0.026743\n",
       "50%         0.066817\n",
       "75%         0.188561\n",
       "max         0.776841\n",
       "Name: cosine, dtype: float64"
      ]
     },
     "execution_count": 12,
     "metadata": {},
     "output_type": "execute_result"
    }
   ],
   "source": [
    "data_naming[(data_naming[\"condition\"]== \"unrel_strong\")|(data_naming[\"condition\"]== \"unrel_weak\")][\"cosine\"].describe()"
   ]
  },
  {
   "cell_type": "code",
   "execution_count": 96,
   "metadata": {},
   "outputs": [],
   "source": [
    "# save the current dataframe as a datafile, for ANOVA analysis on cosine similarity\n",
    "data_naming.to_csv('data_cosine_w7s150.csv')"
   ]
  },
  {
   "cell_type": "markdown",
   "metadata": {},
   "source": [
    "### Step 2: Prepare priming effect data for regressing cosine similarities on RTs"
   ]
  },
  {
   "cell_type": "code",
   "execution_count": 4,
   "metadata": {},
   "outputs": [],
   "source": [
    "# calculate priming effect\n",
    "data_primingeffect = pd.DataFrame(columns=[\"isi\",\"prime\", \"prime_un\",\"target\",\"condition\",\"prim_diff_RT\",\"diff_cosine\"])\n",
    "\n",
    "isi = [\"50\",\"1050\"]\n",
    "condition = [\"strong\", \"unrel_strong\", \"unrel_weak\", \"weak\"]\n",
    "\n",
    "for i in range(len(data_naming)):\n",
    "    #print(i)\n",
    "    isi_current = data_naming.loc[i,\"isi\"]\n",
    "    prime_current = data_naming.loc[i,\"prime\"]\n",
    "    target_current = data_naming.loc[i,\"target\"]\n",
    "    meanRT_current = data_naming.loc[i,\"meanRT\"]\n",
    "    cos_current = data_naming.loc[i,\"cosine\"]\n",
    "    \n",
    "    if data_naming.loc[i,\"condition\"]==\"strong\":\n",
    "        ind = data_naming[(data_naming[\"isi\"]==int(isi_current)) & (data_naming[\"target\"]==target_current) & (data_naming[\"condition\"]==\"unrel_strong\")]\n",
    "        #print(len(ind.index))\n",
    "        if len(ind.index) == 0:\n",
    "            continue\n",
    "        else:\n",
    "            meanRT_minu = ind[\"meanRT\"].values[0]\n",
    "            cos_minu = ind[\"cosine\"].values[0]\n",
    "            priming_effect_RT = meanRT_minu - meanRT_current\n",
    "            priming_effect_cosine = cos_current - cos_minu\n",
    "            \n",
    "            df = pd.DataFrame([(isi_current, prime_current, ind[\"prime\"].values[0], target_current, data_naming.loc[i,\"condition\"], priming_effect_RT, priming_effect_cosine)], columns=[\"isi\",\"prime\", \"prime_un\",\"target\",\"condition\",\"prim_diff_RT\",\"diff_cosine\"])\n",
    "            data_primingeffect = data_primingeffect.append(df,ignore_index=True)\n",
    "    elif data_naming.loc[i,\"condition\"]==\"weak\":\n",
    "        ind = data_naming[(data_naming[\"isi\"]==int(isi_current)) & (data_naming[\"target\"]==target_current) & (data_naming[\"condition\"]==\"unrel_weak\")]\n",
    "        \n",
    "        if len(ind.index) == 0:\n",
    "            continue\n",
    "        else:\n",
    "            meanRT_minu = ind[\"meanRT\"].values[0]\n",
    "            cos_minu = ind[\"cosine\"].values[0]\n",
    "            \n",
    "            priming_effect_RT = meanRT_minu - meanRT_current\n",
    "            priming_effect_cosine = cos_current - cos_minu\n",
    "            df = pd.DataFrame([(isi_current, prime_current, ind[\"prime\"].values[0], target_current, data_naming.loc[i,\"condition\"], priming_effect_RT, priming_effect_cosine)], columns=[\"isi\",\"prime\", \"prime_un\",\"target\",\"condition\",\"prim_diff_RT\",\"diff_cosine\"])\n",
    "            data_primingeffect = data_primingeffect.append(df,ignore_index=True)\n",
    "    else:\n",
    "        continue"
   ]
  },
  {
   "cell_type": "code",
   "execution_count": 5,
   "metadata": {},
   "outputs": [
    {
     "name": "stdout",
     "output_type": "stream",
     "text": [
      "Total number of trials for priming effect: 6620\n",
      "Note that this number should equal half of the number yielded from the cell above\n"
     ]
    }
   ],
   "source": [
    "print(\"Total number of trials for priming effect: {}\".format(len(data_primingeffect)))\n",
    "print(\"Note that this number should equal half of the number yielded from the cell above\")\n",
    "data_naming = data_primingeffect"
   ]
  },
  {
   "cell_type": "markdown",
   "metadata": {},
   "source": [
    "### Step 3: Outlier removal (datapoints beyond +/-2std were thrown away)"
   ]
  },
  {
   "cell_type": "code",
   "execution_count": 6,
   "metadata": {},
   "outputs": [
    {
     "name": "stdout",
     "output_type": "stream",
     "text": [
      "6072\n"
     ]
    },
    {
     "name": "stderr",
     "output_type": "stream",
     "text": [
      "C:\\Users\\lenovo\\Anaconda3\\lib\\site-packages\\ipykernel_launcher.py:23: SettingWithCopyWarning: \n",
      "A value is trying to be set on a copy of a slice from a DataFrame.\n",
      "Try using .loc[row_indexer,col_indexer] = value instead\n",
      "\n",
      "See the caveats in the documentation: https://pandas.pydata.org/pandas-docs/stable/user_guide/indexing.html#returning-a-view-versus-a-copy\n",
      "C:\\Users\\lenovo\\Anaconda3\\lib\\site-packages\\ipykernel_launcher.py:24: SettingWithCopyWarning: \n",
      "A value is trying to be set on a copy of a slice from a DataFrame.\n",
      "Try using .loc[row_indexer,col_indexer] = value instead\n",
      "\n",
      "See the caveats in the documentation: https://pandas.pydata.org/pandas-docs/stable/user_guide/indexing.html#returning-a-view-versus-a-copy\n",
      "C:\\Users\\lenovo\\Anaconda3\\lib\\site-packages\\ipykernel_launcher.py:23: SettingWithCopyWarning: \n",
      "A value is trying to be set on a copy of a slice from a DataFrame.\n",
      "Try using .loc[row_indexer,col_indexer] = value instead\n",
      "\n",
      "See the caveats in the documentation: https://pandas.pydata.org/pandas-docs/stable/user_guide/indexing.html#returning-a-view-versus-a-copy\n",
      "C:\\Users\\lenovo\\Anaconda3\\lib\\site-packages\\ipykernel_launcher.py:24: SettingWithCopyWarning: \n",
      "A value is trying to be set on a copy of a slice from a DataFrame.\n",
      "Try using .loc[row_indexer,col_indexer] = value instead\n",
      "\n",
      "See the caveats in the documentation: https://pandas.pydata.org/pandas-docs/stable/user_guide/indexing.html#returning-a-view-versus-a-copy\n",
      "C:\\Users\\lenovo\\Anaconda3\\lib\\site-packages\\ipykernel_launcher.py:23: SettingWithCopyWarning: \n",
      "A value is trying to be set on a copy of a slice from a DataFrame.\n",
      "Try using .loc[row_indexer,col_indexer] = value instead\n",
      "\n",
      "See the caveats in the documentation: https://pandas.pydata.org/pandas-docs/stable/user_guide/indexing.html#returning-a-view-versus-a-copy\n",
      "C:\\Users\\lenovo\\Anaconda3\\lib\\site-packages\\ipykernel_launcher.py:24: SettingWithCopyWarning: \n",
      "A value is trying to be set on a copy of a slice from a DataFrame.\n",
      "Try using .loc[row_indexer,col_indexer] = value instead\n",
      "\n",
      "See the caveats in the documentation: https://pandas.pydata.org/pandas-docs/stable/user_guide/indexing.html#returning-a-view-versus-a-copy\n",
      "C:\\Users\\lenovo\\Anaconda3\\lib\\site-packages\\ipykernel_launcher.py:23: SettingWithCopyWarning: \n",
      "A value is trying to be set on a copy of a slice from a DataFrame.\n",
      "Try using .loc[row_indexer,col_indexer] = value instead\n",
      "\n",
      "See the caveats in the documentation: https://pandas.pydata.org/pandas-docs/stable/user_guide/indexing.html#returning-a-view-versus-a-copy\n",
      "C:\\Users\\lenovo\\Anaconda3\\lib\\site-packages\\ipykernel_launcher.py:24: SettingWithCopyWarning: \n",
      "A value is trying to be set on a copy of a slice from a DataFrame.\n",
      "Try using .loc[row_indexer,col_indexer] = value instead\n",
      "\n",
      "See the caveats in the documentation: https://pandas.pydata.org/pandas-docs/stable/user_guide/indexing.html#returning-a-view-versus-a-copy\n"
     ]
    }
   ],
   "source": [
    "#identify and remove outliers: any datapoint beyond +/-2std (aka \\z\\ >= 2) will be considered an outlier and removed from the dataset\n",
    "\n",
    "#showchart = data_naming[['isi', 'condition',\"meanRT\"]].groupby(['isi', 'condition']).describe()\n",
    "#print(showchart)\n",
    "\n",
    "isi = [\"50\",\"1050\"]\n",
    "condition = [\"strong\", \"unrel_strong\", \"unrel_weak\", \"weak\"]\n",
    "\n",
    "# detect and record outliers, with their indices\n",
    "outliers = pd.DataFrame()\n",
    "for i in range(2):\n",
    "    isi_outlier = isi[i]\n",
    "    for j in range(4):\n",
    "        condition_outlier = condition[j]\n",
    "        data_comb = data_naming[(data_naming.isi == int(isi_outlier)) & (data_naming.condition == condition_outlier)]\n",
    "        \n",
    "        # normalise the data to get the z-scores\n",
    "        dt = data_comb.loc[:, 'prim_diff_RT':\"diff_cosine\"]\n",
    "        data_comb_z = (dt - dt.mean()) / dt.std()\n",
    "        \n",
    "        outliers_comb = data_comb_z[(np.abs(data_comb_z.prim_diff_RT) > 2) | (np.abs(data_comb_z.diff_cosine) > 2)]\n",
    "        # add isi*condition - maybe there're better ways?\n",
    "        outliers_comb[\"isi\"] = isi_outlier\n",
    "        outliers_comb[\"condition\"] = condition_outlier\n",
    "        \n",
    "        outliers = pd.concat([outliers,outliers_comb])\n",
    "        \n",
    "# build finailised data without outliers\n",
    "data_finalised = data_naming.drop(outliers.index)\n",
    "data_finalised.reset_index(drop=True,inplace=True) # leaving 5001 trials\n",
    "print(len(data_finalised))"
   ]
  },
  {
   "cell_type": "markdown",
   "metadata": {},
   "source": [
    "### Step 4: Save the file for inferential statistics in R"
   ]
  },
  {
   "cell_type": "code",
   "execution_count": 100,
   "metadata": {},
   "outputs": [],
   "source": [
    "# save the preprocessed data into a csv file and switch to R for inferential stats\n",
    "data_finalised_r = data_finalised\n",
    "data_finalised_r.to_csv('data_f_lexdec_w7s150.csv')"
   ]
  },
  {
   "cell_type": "markdown",
   "metadata": {},
   "source": [
    "### Extra step: Plotting (not part of the report; just wanted to get a feel about the data before analysis)"
   ]
  },
  {
   "cell_type": "code",
   "execution_count": 8,
   "metadata": {},
   "outputs": [
    {
     "name": "stderr",
     "output_type": "stream",
     "text": [
      "C:\\Users\\lenovo\\Anaconda3\\lib\\site-packages\\seaborn\\categorical.py:3714: UserWarning: The `factorplot` function has been renamed to `catplot`. The original name will be removed in a future release. Please update your code. Note that the default `kind` in `factorplot` (`'point'`) has changed `'strip'` in `catplot`.\n",
      "  warnings.warn(msg)\n",
      "C:\\Users\\lenovo\\Anaconda3\\lib\\site-packages\\seaborn\\_decorators.py:43: FutureWarning: Pass the following variables as keyword args: x, y, hue. From version 0.12, the only valid positional argument will be `data`, and passing other arguments without an explicit keyword will result in an error or misinterpretation.\n",
      "  FutureWarning\n"
     ]
    },
    {
     "data": {
      "image/png": "[encoded data removed]",
      "text/plain": [
       "<Figure size 430.225x360 with 1 Axes>"
      ]
     },
     "metadata": {},
     "output_type": "display_data"
    },
    {
     "data": {
      "image/png": "[encoded data removed]",
      "text/plain": [
       "<Figure size 432x432 with 4 Axes>"
      ]
     },
     "metadata": {},
     "output_type": "display_data"
    }
   ],
   "source": [
    "sns.set_theme(style=\"whitegrid\")\n",
    "# Data plotting: meanRTs\n",
    "with sns.axes_style(style='ticks'): # box plot\n",
    "    fig1 = sns.factorplot(\"isi\", \"prim_diff_RT\", \"condition\", data=data_finalised, kind=\"box\", palette = \"icefire\")\n",
    "    fig1.set_axis_labels(\"ISI (ms)\", \"priming effect (ms)\");\n",
    "\n",
    "# grid plot: looks even better without outliers\n",
    "grid = sns.FacetGrid(data_finalised, row=\"isi\", col=\"condition\", margin_titles=True)\n",
    "grid.map(plt.hist, \"prim_diff_RT\");\n",
    "grid.set_axis_labels(\"priming effect (ms)\");"
   ]
  },
  {
   "cell_type": "code",
   "execution_count": 9,
   "metadata": {},
   "outputs": [
    {
     "name": "stderr",
     "output_type": "stream",
     "text": [
      "C:\\Users\\lenovo\\Anaconda3\\lib\\site-packages\\seaborn\\categorical.py:3714: UserWarning: The `factorplot` function has been renamed to `catplot`. The original name will be removed in a future release. Please update your code. Note that the default `kind` in `factorplot` (`'point'`) has changed `'strip'` in `catplot`.\n",
      "  warnings.warn(msg)\n",
      "C:\\Users\\lenovo\\Anaconda3\\lib\\site-packages\\seaborn\\_decorators.py:43: FutureWarning: Pass the following variables as keyword args: x, y, hue. From version 0.12, the only valid positional argument will be `data`, and passing other arguments without an explicit keyword will result in an error or misinterpretation.\n",
      "  FutureWarning\n"
     ]
    },
    {
     "data": {
      "image/png": "[encoded data removed]",
      "text/plain": [
       "<Figure size 430.225x360 with 1 Axes>"
      ]
     },
     "metadata": {},
     "output_type": "display_data"
    },
    {
     "data": {
      "image/png": "[encoded data removed]",
      "text/plain": [
       "<Figure size 432x432 with 4 Axes>"
      ]
     },
     "metadata": {},
     "output_type": "display_data"
    }
   ],
   "source": [
    "# Data plotting: cosine - looks neat!\n",
    "with sns.axes_style(style='ticks'): # box plot\n",
    "    fig1 = sns.factorplot(\"isi\", \"diff_cosine\", \"condition\", data=data_finalised, kind=\"box\", palette=\"magma\")\n",
    "    fig1.set_axis_labels(\"ISI (ms)\", \"similairty_cosine\");\n",
    "\n",
    "# grid plot:\n",
    "grid = sns.FacetGrid(data_finalised, row=\"isi\", col=\"condition\", margin_titles=True, palette=\"seagreen\")\n",
    "grid.map(plt.hist, \"diff_cosine\");"
   ]
  }
 ],
 "metadata": {
  "kernelspec": {
   "display_name": "Python 3",
   "language": "python",
   "name": "python3"
  },
  "language_info": {
   "codemirror_mode": {
    "name": "ipython",
    "version": 3
   },
   "file_extension": ".py",
   "mimetype": "text/x-python",
   "name": "python",
   "nbconvert_exporter": "python",
   "pygments_lexer": "ipython3",
   "version": "3.7.4"
  }
 },
 "nbformat": 4,
 "nbformat_minor": 2
}
